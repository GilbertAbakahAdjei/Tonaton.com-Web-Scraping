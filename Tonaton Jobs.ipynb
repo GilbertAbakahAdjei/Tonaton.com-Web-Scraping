{
 "cells": [
  {
   "cell_type": "code",
   "execution_count": 1,
   "metadata": {},
   "outputs": [],
   "source": [
    "import pandas as pd\n",
    "from bs4 import BeautifulSoup\n",
    "import requests"
   ]
  },
  {
   "cell_type": "code",
   "execution_count": 2,
   "metadata": {},
   "outputs": [],
   "source": [
    "r = requests.get('https://tonaton.com/en/ads/ghana/jobs-in-ghana')"
   ]
  },
  {
   "cell_type": "code",
   "execution_count": 3,
   "metadata": {},
   "outputs": [],
   "source": [
    "soup = BeautifulSoup(r.text,'html.parser')"
   ]
  },
  {
   "cell_type": "code",
   "execution_count": 4,
   "metadata": {},
   "outputs": [],
   "source": [
    "results= soup.findAll('div',{'class':['item-thumb','no-bg','no-frame']})"
   ]
  },
  {
   "cell_type": "code",
   "execution_count": 5,
   "metadata": {},
   "outputs": [],
   "source": [
    "first = results[1]"
   ]
  },
  {
   "cell_type": "code",
   "execution_count": 6,
   "metadata": {},
   "outputs": [
    {
     "data": {
      "text/plain": [
       "<div class=\"item-thumb no-bg no-frame\"><a href=\"/en/ad/head-teacher-accra\"><img alt=\"Jobs in Ghana-Accra - Head Teacher\" data-srcset=\"//i.tonaton-st.com/u/62545264-d49b-48f4-87de-bd13bc8b2f4d/140/105/fitted.jpg 1x, //i.tonaton-st.com/u/62545264-d49b-48f4-87de-bd13bc8b2f4d/280/210/fitted.jpg 1.3x\" title=\"Head Teacher\"/></a></div>"
      ]
     },
     "execution_count": 6,
     "metadata": {},
     "output_type": "execute_result"
    }
   ],
   "source": [
    "first"
   ]
  },
  {
   "cell_type": "code",
   "execution_count": 7,
   "metadata": {},
   "outputs": [
    {
     "data": {
      "text/plain": [
       "[<div class=\"item-thumb no-bg no-frame\"><a href=\"/en/ad/marketing-and-sales-accra-1\"><img alt=\"Jobs in Ghana-Accra - Marketing &amp; Sales\" data-srcset=\"//i.tonaton-st.com/u/1ab3414f-f2d6-4590-b50e-cdf317b0513c/140/105/fitted.jpg 1x, //i.tonaton-st.com/u/1ab3414f-f2d6-4590-b50e-cdf317b0513c/280/210/fitted.jpg 1.3x\" title=\"Marketing &amp; Sales\"/></a></div>,\n",
       " <div class=\"item-thumb no-bg no-frame\"><a href=\"/en/ad/head-teacher-accra\"><img alt=\"Jobs in Ghana-Accra - Head Teacher\" data-srcset=\"//i.tonaton-st.com/u/62545264-d49b-48f4-87de-bd13bc8b2f4d/140/105/fitted.jpg 1x, //i.tonaton-st.com/u/62545264-d49b-48f4-87de-bd13bc8b2f4d/280/210/fitted.jpg 1.3x\" title=\"Head Teacher\"/></a></div>,\n",
       " <div class=\"item-thumb no-bg no-frame\"><a href=\"/en/ad/customer-service-job-kumasi-127\"><img alt=\"Jobs in Ghana-Kumasi - Customer service job\" data-srcset=\"//i.tonaton-st.com/u/28db5f45-69f1-47f8-874e-9d49aa6f302a/272/204/fitted.jpg 1x, //i.tonaton-st.com/u/28db5f45-69f1-47f8-874e-9d49aa6f302a/272/204/fitted.jpg 1.3x\" title=\"Customer service job\"/></a></div>,\n",
       " <div class=\"item-thumb no-bg no-frame\"><a href=\"/en/ad/boutique-assistant-job-kumasi-52\"><img alt=\"Jobs in Ghana-Kumasi - Boutique assistant job\" data-srcset=\"//i.tonaton-st.com/u/74ff38ce-efee-4965-a917-e2c0bd8f45f5/272/204/fitted.jpg 1x, //i.tonaton-st.com/u/74ff38ce-efee-4965-a917-e2c0bd8f45f5/272/204/fitted.jpg 1.3x\" title=\"Boutique assistant job\"/></a></div>,\n",
       " <div class=\"item-thumb no-bg no-frame\"><a href=\"/en/ad/fuel-station-attendant-job-kumasi\"><img alt=\"Jobs in Ghana-Kumasi - Fuel station attendant job\" data-srcset=\"//i.tonaton-st.com/u/adae9529-ce91-42be-8dfd-10e88eced1a5/272/204/fitted.jpg 1x, //i.tonaton-st.com/u/adae9529-ce91-42be-8dfd-10e88eced1a5/272/204/fitted.jpg 1.3x\" title=\"Fuel station attendant job\"/></a></div>,\n",
       " <div class=\"item-thumb no-bg no-frame\"><a href=\"/en/ad/casino-workers-needed-urgently-kumasi-4\"><img alt=\"Jobs in Ghana-Kumasi - Casino Workers needed urgently\" data-srcset=\"//i.tonaton-st.com/u/2cce2a7c-fbdd-4e77-ac46-e00b063b07df/272/204/fitted.jpg 1x, //i.tonaton-st.com/u/2cce2a7c-fbdd-4e77-ac46-e00b063b07df/272/204/fitted.jpg 1.3x\" title=\"Casino Workers needed urgently\"/></a></div>,\n",
       " <div class=\"item-thumb no-bg no-frame\"><a href=\"/en/ad/wholesale-worker-needed-kumasi\"><img alt=\"Jobs in Ghana-Kumasi - Wholesale worker needed\" data-srcset=\"//i.tonaton-st.com/u/4cbe2847-c1e1-4cfe-bd92-5044a1c09c7d/272/204/fitted.jpg 1x, //i.tonaton-st.com/u/4cbe2847-c1e1-4cfe-bd92-5044a1c09c7d/272/204/fitted.jpg 1.3x\" title=\"Wholesale worker needed\"/></a></div>,\n",
       " <div class=\"item-thumb no-bg no-frame\"><a href=\"/en/ad/teachers-wanted-accra-112\"><img alt=\"Jobs in Ghana-Accra - TEACHERS WANTED\" data-srcset=\"//i.tonaton-st.com/u/90119dcf-e643-4ee8-8d7c-7bf15a2c9c78/272/204/fitted.jpg 1x, //i.tonaton-st.com/u/90119dcf-e643-4ee8-8d7c-7bf15a2c9c78/272/204/fitted.jpg 1.3x\" title=\"TEACHERS WANTED\"/></a></div>,\n",
       " <div class=\"item-thumb no-bg no-frame\"><a href=\"/en/ad/cashiers-wanted-accra-3\"><img alt=\"Jobs in Ghana-Accra - CASHIERS WANTED\" data-srcset=\"//i.tonaton-st.com/u/9ff9c5b8-0364-4803-bc07-24c67238cbd7/272/204/fitted.jpg 1x, //i.tonaton-st.com/u/9ff9c5b8-0364-4803-bc07-24c67238cbd7/272/204/fitted.jpg 1.3x\" title=\"CASHIERS WANTED\"/></a></div>,\n",
       " <div class=\"item-thumb no-bg no-frame\"><a href=\"/en/ad/hairstylist-needed-urgently-accra\"><img alt=\"Jobs in Ghana-Accra - Hairstylist Needed Urgently\" data-srcset=\"//i.tonaton-st.com/u/3aae47ab-8fd4-4636-90b5-427a061f52a1/272/204/fitted.jpg 1x, //i.tonaton-st.com/u/3aae47ab-8fd4-4636-90b5-427a061f52a1/272/204/fitted.jpg 1.3x\" title=\"Hairstylist Needed Urgently\"/></a></div>,\n",
       " <div class=\"item-thumb no-frame no-bg no-frame\"><a href=\"/en/ad/driving-instructor-accra-2\"></a></div>,\n",
       " <div class=\"item-thumb no-bg no-frame\"><a href=\"/en/ad/mobile-bankers-needed-kumasi-5\"><img alt=\"Jobs in Ghana-Kumasi - Mobile Bankers needed\" data-srcset=\"//i.tonaton-st.com/u/70c64cd8-eb53-4133-80a8-23052b84092f/272/204/fitted.jpg 1x, //i.tonaton-st.com/u/70c64cd8-eb53-4133-80a8-23052b84092f/272/204/fitted.jpg 1.3x\" title=\"Mobile Bankers needed\"/></a></div>,\n",
       " <div class=\"item-thumb no-bg no-frame\"><a href=\"/en/ad/production-workers-needed-kumasi-108\"><img alt=\"Jobs in Ghana-Kumasi - Production Workers Needed\" data-srcset=\"//i.tonaton-st.com/u/f1d52b05-36ae-4dda-ab9c-9b0c369e3f6b/272/204/fitted.jpg 1x, //i.tonaton-st.com/u/f1d52b05-36ae-4dda-ab9c-9b0c369e3f6b/272/204/fitted.jpg 1.3x\" title=\"Production Workers Needed\"/></a></div>,\n",
       " <div class=\"item-thumb no-bg no-frame\"><a href=\"/en/ad/phone-shop-job-kumasi-25\"><img alt=\"Jobs in Ghana-Kumasi - Phone Shop Job\" data-srcset=\"//i.tonaton-st.com/u/9282321f-dbd7-4875-905a-8545023cefeb/272/204/fitted.jpg 1x, //i.tonaton-st.com/u/9282321f-dbd7-4875-905a-8545023cefeb/272/204/fitted.jpg 1.3x\" title=\"Phone Shop Job\"/></a></div>,\n",
       " <div class=\"item-thumb no-frame no-bg no-frame\"><a href=\"/en/ad/house-needed-accra\"></a></div>,\n",
       " <div class=\"item-thumb no-frame no-bg no-frame\"><a href=\"/en/ad/secretary-needed-urgent-accra\"></a></div>,\n",
       " <div class=\"item-thumb no-bg no-frame\"><a href=\"/en/ad/factory-job-kumasi-53\"><img alt=\"Jobs in Ghana-Kumasi - Factory Job\" data-srcset=\"//i.tonaton-st.com/u/2a596e5d-a0f3-4b7e-909d-1ba7a5b3191e/272/204/fitted.jpg 1x, //i.tonaton-st.com/u/2a596e5d-a0f3-4b7e-909d-1ba7a5b3191e/272/204/fitted.jpg 1.3x\" title=\"Factory Job\"/></a></div>,\n",
       " <div class=\"item-thumb no-bg no-frame\"><a href=\"/en/ad/loaders-needed-kumasi-49\"><img alt=\"Jobs in Ghana-Kumasi - Loaders Needed\" data-srcset=\"//i.tonaton-st.com/u/0e1bcdae-60c0-412a-b54c-9e3093e64157/272/204/fitted.jpg 1x, //i.tonaton-st.com/u/0e1bcdae-60c0-412a-b54c-9e3093e64157/272/204/fitted.jpg 1.3x\" title=\"Loaders Needed\"/></a></div>,\n",
       " <div class=\"item-thumb no-bg no-frame\"><a href=\"/en/ad/security-guards-wanted-with-accomodation-accra-1\"><img alt=\"Jobs in Ghana-Accra - SECURITY GUARDS WANTED WITH ACCOMODATION\" data-srcset=\"//i.tonaton-st.com/u/d2fc2e11-a6e5-4c8a-a867-a5717d7b1a24/272/204/fitted.jpg 1x, //i.tonaton-st.com/u/d2fc2e11-a6e5-4c8a-a867-a5717d7b1a24/272/204/fitted.jpg 1.3x\" title=\"SECURITY GUARDS WANTED WITH ACCOMODATION\"/></a></div>,\n",
       " <div class=\"item-thumb no-bg no-frame\"><a href=\"/en/ad/wholease-and-retail-officer-needed-kumasi\"><img alt=\"Jobs in Ghana-Kumasi - Wholease And Retail Officer Needed\" data-srcset=\"//i.tonaton-st.com/u/ff0d259f-5d5f-4623-8166-8bc681a3a978/272/204/fitted.jpg 1x, //i.tonaton-st.com/u/ff0d259f-5d5f-4623-8166-8bc681a3a978/272/204/fitted.jpg 1.3x\" title=\"Wholease And Retail Officer Needed\"/></a></div>,\n",
       " <div class=\"item-thumb no-bg no-frame\"><a href=\"/en/ad/factory-hand-wanted-accra-17\"><img alt=\"Jobs in Ghana-Accra - FACTORY HAND WANTED\" data-srcset=\"//i.tonaton-st.com/u/97c60c4b-e7c6-43c0-9e28-fa326d94c24e/272/204/fitted.jpg 1x, //i.tonaton-st.com/u/97c60c4b-e7c6-43c0-9e28-fa326d94c24e/272/204/fitted.jpg 1.3x\" title=\"FACTORY HAND WANTED\"/></a></div>,\n",
       " <div class=\"item-thumb no-bg no-frame\"><a href=\"/en/ad/secretary-wanted-accra-87\"><img alt=\"Jobs in Ghana-Accra - SECRETARY WANTED\" data-srcset=\"//i.tonaton-st.com/u/54608c99-e8df-4e6a-a42d-7a9168a51679/272/204/fitted.jpg 1x, //i.tonaton-st.com/u/54608c99-e8df-4e6a-a42d-7a9168a51679/272/204/fitted.jpg 1.3x\" title=\"SECRETARY WANTED\"/></a></div>,\n",
       " <div class=\"item-thumb no-bg no-frame\"><a href=\"/en/ad/waitresses-and-waiters-wanted-accra-1\"><img alt=\"Jobs in Ghana-Accra - WAITRESSES AND WAITERS WANTED\" data-srcset=\"//i.tonaton-st.com/u/ed69e94b-8a09-45c4-b5d5-f5aa2fbba4b7/272/204/fitted.jpg 1x, //i.tonaton-st.com/u/ed69e94b-8a09-45c4-b5d5-f5aa2fbba4b7/272/204/fitted.jpg 1.3x\" title=\"WAITRESSES AND WAITERS WANTED\"/></a></div>,\n",
       " <div class=\"item-thumb no-frame no-bg no-frame\"><a href=\"/en/ad/hotel-workers-needed-kumasi-4\"></a></div>,\n",
       " <div class=\"item-thumb no-bg no-frame\"><a href=\"/en/ad/shop-attendance-wanted-accra-17\"><img alt=\"Jobs in Ghana-Accra - SHOP ATTENDANCE WANTED\" data-srcset=\"//i.tonaton-st.com/u/2d6b426a-0775-4cc8-8408-578e85184d4a/272/204/fitted.jpg 1x, //i.tonaton-st.com/u/2d6b426a-0775-4cc8-8408-578e85184d4a/272/204/fitted.jpg 1.3x\" title=\"SHOP ATTENDANCE WANTED\"/></a></div>,\n",
       " <div class=\"item-thumb no-frame no-bg no-frame\"><a href=\"/en/ad/phone-shop-attendant-needed-kumasi-16\"></a></div>,\n",
       " <div class=\"item-thumb no-bg no-frame\"><a href=\"/en/ad/suppet-market-attendance-wanted-accra\"><img alt=\"Jobs in Ghana-Accra - SUPPET MARKET ATTENDANCE WANTED\" data-srcset=\"//i.tonaton-st.com/u/1824e943-8e82-4b0d-9eb4-a33dc2c46f1d/272/204/fitted.jpg 1x, //i.tonaton-st.com/u/1824e943-8e82-4b0d-9eb4-a33dc2c46f1d/272/204/fitted.jpg 1.3x\" title=\"SUPPET MARKET ATTENDANCE WANTED\"/></a></div>]"
      ]
     },
     "execution_count": 7,
     "metadata": {},
     "output_type": "execute_result"
    }
   ],
   "source": [
    "results"
   ]
  },
  {
   "cell_type": "code",
   "execution_count": 8,
   "metadata": {},
   "outputs": [
    {
     "data": {
      "text/plain": [
       "['https:tonaton.com/en/ad/marketing-and-sales-accra-1',\n",
       " 'https:tonaton.com/en/ad/head-teacher-accra',\n",
       " 'https:tonaton.com/en/ad/customer-service-job-kumasi-127',\n",
       " 'https:tonaton.com/en/ad/boutique-assistant-job-kumasi-52',\n",
       " 'https:tonaton.com/en/ad/fuel-station-attendant-job-kumasi',\n",
       " 'https:tonaton.com/en/ad/casino-workers-needed-urgently-kumasi-4',\n",
       " 'https:tonaton.com/en/ad/wholesale-worker-needed-kumasi',\n",
       " 'https:tonaton.com/en/ad/teachers-wanted-accra-112',\n",
       " 'https:tonaton.com/en/ad/cashiers-wanted-accra-3',\n",
       " 'https:tonaton.com/en/ad/hairstylist-needed-urgently-accra',\n",
       " 'https:tonaton.com/en/ad/driving-instructor-accra-2',\n",
       " 'https:tonaton.com/en/ad/mobile-bankers-needed-kumasi-5',\n",
       " 'https:tonaton.com/en/ad/production-workers-needed-kumasi-108',\n",
       " 'https:tonaton.com/en/ad/phone-shop-job-kumasi-25',\n",
       " 'https:tonaton.com/en/ad/house-needed-accra',\n",
       " 'https:tonaton.com/en/ad/secretary-needed-urgent-accra',\n",
       " 'https:tonaton.com/en/ad/factory-job-kumasi-53',\n",
       " 'https:tonaton.com/en/ad/loaders-needed-kumasi-49',\n",
       " 'https:tonaton.com/en/ad/security-guards-wanted-with-accomodation-accra-1',\n",
       " 'https:tonaton.com/en/ad/wholease-and-retail-officer-needed-kumasi',\n",
       " 'https:tonaton.com/en/ad/factory-hand-wanted-accra-17',\n",
       " 'https:tonaton.com/en/ad/secretary-wanted-accra-87',\n",
       " 'https:tonaton.com/en/ad/waitresses-and-waiters-wanted-accra-1',\n",
       " 'https:tonaton.com/en/ad/hotel-workers-needed-kumasi-4',\n",
       " 'https:tonaton.com/en/ad/shop-attendance-wanted-accra-17',\n",
       " 'https:tonaton.com/en/ad/phone-shop-attendant-needed-kumasi-16',\n",
       " 'https:tonaton.com/en/ad/suppet-market-attendance-wanted-accra']"
      ]
     },
     "execution_count": 8,
     "metadata": {},
     "output_type": "execute_result"
    }
   ],
   "source": [
    " url_list = []\n",
    "for div in soup.findAll('div',{'class':['item-thumb','no-bg','no-frame']}):\n",
    "            url_list.append('https:tonaton.com'+ div.find('a')['href'])\n",
    "url_list"
   ]
  },
  {
   "cell_type": "code",
   "execution_count": 9,
   "metadata": {},
   "outputs": [],
   "source": [
    "def scrape_ads():\n",
    "    url_list = []\n",
    "    base_url = 'https://tonaton.com/en/ads/ghana/jobs-in-ghana?page='\n",
    "    for i in range(1,60):\n",
    "        url = base_url + str(i)\n",
    "        r = requests.get(url)\n",
    "        data = r.text\n",
    "        soup = BeautifulSoup(data,'html.parser')\n",
    "        for div in soup.findAll('div',{'class':['item-thumb','no-bg','no-frame']}):\n",
    "            url_list.append('https:tonaton.com'+ div.find('a')['href'])\n",
    "    df = pd.DataFrame(data={'url':url_list})\n",
    "    df.to_csv('urls.csv')\n",
    "        \n",
    "        "
   ]
  },
  {
   "cell_type": "code",
   "execution_count": 10,
   "metadata": {},
   "outputs": [],
   "source": [
    "scrape_ads()"
   ]
  },
  {
   "cell_type": "code",
   "execution_count": 11,
   "metadata": {},
   "outputs": [
    {
     "data": {
      "text/plain": [
       "['Job location', 'Company / Employer', 'Job type']"
      ]
     },
     "execution_count": 11,
     "metadata": {},
     "output_type": "execute_result"
    }
   ],
   "source": [
    "#Exploration\n",
    "urls_list = []\n",
    "r= requests.get('https://tonaton.com/en/ad/head-teacher-accra')\n",
    "data = r.text\n",
    "soup = BeautifulSoup(data,'html.parser')\n",
    "for h2 in soup.findAll('h5', {'class':[\"header-info\", \"t-bold\"]}):\n",
    "    urls_list.append(''.join(h2.findAll(text=True)).replace('\\n',''))\n",
    "urls_list[:3]"
   ]
  },
  {
   "cell_type": "code",
   "execution_count": 12,
   "metadata": {},
   "outputs": [],
   "source": [
    "def data_scrape(ads_url):\n",
    "    urls_list = []\n",
    "    r= requests.get(ads_url)\n",
    "    data = r.text\n",
    "    soup = BeautifulSoup(data,'html.parser')\n",
    "    for h2 in soup.findAll('h5', {'class':[\"header-info\", \"t-bold\"]}):\n",
    "        urls_list.append(''.join(h2.findAll(text=True)).replace('\\n',''))\n",
    "    return urls_list"
   ]
  },
  {
   "cell_type": "code",
   "execution_count": 13,
   "metadata": {},
   "outputs": [],
   "source": [
    "final_result = []\n",
    "urls_data = pd.read_csv('urls.csv')"
   ]
  },
  {
   "cell_type": "code",
   "execution_count": 14,
   "metadata": {},
   "outputs": [
    {
     "data": {
      "text/html": [
       "<div>\n",
       "<style scoped>\n",
       "    .dataframe tbody tr th:only-of-type {\n",
       "        vertical-align: middle;\n",
       "    }\n",
       "\n",
       "    .dataframe tbody tr th {\n",
       "        vertical-align: top;\n",
       "    }\n",
       "\n",
       "    .dataframe thead th {\n",
       "        text-align: right;\n",
       "    }\n",
       "</style>\n",
       "<table border=\"1\" class=\"dataframe\">\n",
       "  <thead>\n",
       "    <tr style=\"text-align: right;\">\n",
       "      <th></th>\n",
       "      <th>Unnamed: 0</th>\n",
       "      <th>url</th>\n",
       "    </tr>\n",
       "  </thead>\n",
       "  <tbody>\n",
       "    <tr>\n",
       "      <th>0</th>\n",
       "      <td>0</td>\n",
       "      <td>https:tonaton.com/en/ad/marketing-and-sales-ac...</td>\n",
       "    </tr>\n",
       "    <tr>\n",
       "      <th>1</th>\n",
       "      <td>1</td>\n",
       "      <td>https:tonaton.com/en/ad/head-teacher-accra</td>\n",
       "    </tr>\n",
       "    <tr>\n",
       "      <th>2</th>\n",
       "      <td>2</td>\n",
       "      <td>https:tonaton.com/en/ad/customer-service-job-k...</td>\n",
       "    </tr>\n",
       "    <tr>\n",
       "      <th>3</th>\n",
       "      <td>3</td>\n",
       "      <td>https:tonaton.com/en/ad/boutique-assistant-job...</td>\n",
       "    </tr>\n",
       "    <tr>\n",
       "      <th>4</th>\n",
       "      <td>4</td>\n",
       "      <td>https:tonaton.com/en/ad/fuel-station-attendant...</td>\n",
       "    </tr>\n",
       "  </tbody>\n",
       "</table>\n",
       "</div>"
      ],
      "text/plain": [
       "   Unnamed: 0                                                url\n",
       "0           0  https:tonaton.com/en/ad/marketing-and-sales-ac...\n",
       "1           1         https:tonaton.com/en/ad/head-teacher-accra\n",
       "2           2  https:tonaton.com/en/ad/customer-service-job-k...\n",
       "3           3  https:tonaton.com/en/ad/boutique-assistant-job...\n",
       "4           4  https:tonaton.com/en/ad/fuel-station-attendant..."
      ]
     },
     "execution_count": 14,
     "metadata": {},
     "output_type": "execute_result"
    }
   ],
   "source": [
    "urls_data.head()"
   ]
  },
  {
   "cell_type": "code",
   "execution_count": null,
   "metadata": {},
   "outputs": [],
   "source": [
    "for index, row in urls_data.iterrows():\n",
    "    final_result.append(data_scrape['url'])"
   ]
  }
 ],
 "metadata": {
  "kernelspec": {
   "display_name": "Python 3",
   "language": "python",
   "name": "python3"
  },
  "language_info": {
   "codemirror_mode": {
    "name": "ipython",
    "version": 3
   },
   "file_extension": ".py",
   "mimetype": "text/x-python",
   "name": "python",
   "nbconvert_exporter": "python",
   "pygments_lexer": "ipython3",
   "version": "3.6.5"
  }
 },
 "nbformat": 4,
 "nbformat_minor": 2
}
